{
 "cells": [
  {
   "cell_type": "markdown",
   "metadata": {},
   "source": [
    "<img src=\"https://bit.ly/2VnXWr2\" width=\"100\" align=\"left\">"
   ]
  },
  {
   "cell_type": "markdown",
   "metadata": {},
   "source": [
    "# The Snail and the Well\n",
    "\n",
    "A snail falls at the bottom of a 125 cm well. Each day the snail rises 30 cm. But at night, while sleeping, slides 20 cm because the walls are wet. How many days does it take for the snail to escape the well?\n",
    "\n",
    "**Hint**: The snail gets out of the well when it surpasses the 125cm of height.\n",
    "\n",
    "## Tools\n",
    "\n",
    "1. Loop: **while**\n",
    "2. Conditional statements: **if-else**\n",
    "3. Function: **print()**\n",
    "\n",
    "## Tasks\n",
    "\n",
    "#### 1. Assign the challenge data to variables with representative names: `well_height`, `daily_distance`, `nightly_distance` and `snail_position`."
   ]
  },
  {
   "cell_type": "code",
   "execution_count": 5,
   "metadata": {},
   "outputs": [],
   "source": [
    "well_height = 125\n",
    "daily_distance = 30\n",
    "nightly_distance = -20\n",
    "snail_position = daily_distance + nightly_distance"
   ]
  },
  {
   "cell_type": "markdown",
   "metadata": {},
   "source": [
    "#### 2. Create a variable `days` to keep count of the days that pass until the snail escapes the well. "
   ]
  },
  {
   "cell_type": "code",
   "execution_count": 7,
   "metadata": {},
   "outputs": [],
   "source": [
    "days = 0\n",
    "travel_distance = 0 \n",
    "while travel_distance < well_height:\n",
    "    days += 1\n",
    "    travel_distance += daily_distance\n",
    "    if travel_distance >= well_height:\n",
    "        break\n",
    "    travel_distance += nightly_distance"
   ]
  },
  {
   "cell_type": "markdown",
   "metadata": {},
   "source": [
    "#### 3. Find the solution to the challenge using the variables defined above. "
   ]
  },
  {
   "cell_type": "code",
   "execution_count": 8,
   "metadata": {},
   "outputs": [
    {
     "output_type": "stream",
     "name": "stdout",
     "text": [
      "11\n"
     ]
    }
   ],
   "source": [
    "print(days)"
   ]
  },
  {
   "cell_type": "markdown",
   "metadata": {},
   "source": [
    "#### 4. Print the solution."
   ]
  },
  {
   "cell_type": "code",
   "execution_count": null,
   "metadata": {},
   "outputs": [],
   "source": []
  },
  {
   "cell_type": "markdown",
   "metadata": {},
   "source": [
    "## Bonus\n",
    "The distance traveled by the snail each day is now defined by a list.\n",
    "```\n",
    "advance_cm = [30, 21, 33, 77, 44, 45, 23, 45, 12, 34, 55]\n",
    "```\n",
    "On the first day, the snail rises 30cm but during the night it slides 20cm. On the second day, the snail rises 21cm but during the night it slides 20cm, and so on. \n",
    "\n",
    "#### 1. How many days does it take for the snail to escape the well?\n",
    "Follow the same guidelines as in the previous challenge.\n",
    "\n",
    "**Hint**: Remember that the snail gets out of the well when it surpasses the 125cm of height."
   ]
  },
  {
   "cell_type": "code",
   "execution_count": 9,
   "metadata": {},
   "outputs": [
    {
     "output_type": "stream",
     "name": "stdout",
     "text": [
      "5\n"
     ]
    }
   ],
   "source": [
    "advance_cm = [30, 21, 33, 77, 44, 45, 23, 45, 12, 34, 55]\n",
    "days = 0\n",
    "travel_distance = 0\n",
    "i = 0\n",
    "while i < len(advance_cm) and travel_distance < well_height:\n",
    "    days += 1\n",
    "    travel_distance += advance_cm[i]\n",
    "    if travel_distance >= well_height:\n",
    "        break\n",
    "    else: \n",
    "        travel_distance += nightly_distance\n",
    "    i += 1\n",
    "print(days)\n"
   ]
  },
  {
   "cell_type": "markdown",
   "metadata": {},
   "source": [
    "#### 2. What is its maximum displacement in one day? And its minimum? Calculate the displacement using only the travel distance of the days used to get out of the well. \n",
    "**Hint**: Remember that displacement means the total distance risen taking into account that the snail slides at night.  "
   ]
  },
  {
   "cell_type": "code",
   "execution_count": 10,
   "metadata": {},
   "outputs": [
    {
     "output_type": "stream",
     "name": "stdout",
     "text": [
      "5 57 1\n"
     ]
    }
   ],
   "source": [
    "initial_displ = 0\n",
    "max_displ = 0\n",
    "min_displ = 125\n",
    "days = 0\n",
    "travel_distance = 0\n",
    "last_distance = 0\n",
    "i = 0\n",
    "while i < len(advance_cm) and travel_distance < well_height:\n",
    "    days += 1\n",
    "    travel_distance += advance_cm[i]\n",
    "    if travel_distance >= well_height:\n",
    "        break\n",
    "    else: \n",
    "        travel_distance += nightly_distance \n",
    "    x = travel_distance - last_distance\n",
    "    max_displ = max(x, max_displ)\n",
    "    min_displ = min(x, min_displ)\n",
    "    last_distance = travel_distance\n",
    "    i += 1\n",
    "\n",
    "print(days, max_displ, min_displ)"
   ]
  },
  {
   "cell_type": "markdown",
   "metadata": {},
   "source": [
    "#### 3. What is its average progress? Take into account the snail slides at night."
   ]
  },
  {
   "cell_type": "code",
   "execution_count": 13,
   "metadata": {},
   "outputs": [
    {
     "output_type": "stream",
     "name": "stdout",
     "text": [
      "25.0\n"
     ]
    }
   ],
   "source": [
    "average_displ = well_height/days\n",
    "print(average_displ)"
   ]
  },
  {
   "cell_type": "markdown",
   "metadata": {},
   "source": [
    "#### 4. What is the standard deviation of its displacement? Take into account the snail slides at night."
   ]
  },
  {
   "cell_type": "code",
   "execution_count": 16,
   "metadata": {},
   "outputs": [
    {
     "output_type": "stream",
     "name": "stdout",
     "text": [
      "24.13503677229434\n"
     ]
    }
   ],
   "source": [
    "import math\n",
    "square_sum = 0\n",
    "max_displ = 0\n",
    "min_displ = 125\n",
    "days = 0\n",
    "travel_distance = 0\n",
    "last_distance = 0\n",
    "i = 0\n",
    "while i < len(advance_cm) and travel_distance < well_height:\n",
    "    days += 1\n",
    "    travel_distance += advance_cm[i]\n",
    "    if travel_distance >= well_height:\n",
    "        x = travel_distance - last_distance\n",
    "        square_sum += (x - average_displ)**2\n",
    "        break\n",
    "    else: \n",
    "        travel_distance += nightly_distance \n",
    "    x = travel_distance - last_distance\n",
    "    square_sum += (x - average_displ)**2\n",
    "    last_distance = travel_distance\n",
    "    i += 1\n",
    "stdev = math.sqrt(square_sum/(days-1))\n",
    "print(stdev)"
   ]
  },
  {
   "cell_type": "code",
   "execution_count": null,
   "metadata": {},
   "outputs": [],
   "source": []
  }
 ],
 "metadata": {
  "kernelspec": {
   "display_name": "Python 3",
   "language": "python",
   "name": "python3"
  },
  "language_info": {
   "codemirror_mode": {
    "name": "ipython",
    "version": 3
   },
   "file_extension": ".py",
   "mimetype": "text/x-python",
   "name": "python",
   "nbconvert_exporter": "python",
   "pygments_lexer": "ipython3",
   "version": "3.8.5-final"
  }
 },
 "nbformat": 4,
 "nbformat_minor": 2
}